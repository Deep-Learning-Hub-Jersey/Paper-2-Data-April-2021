{
 "cells": [
  {
   "cell_type": "code",
   "execution_count": 1,
   "metadata": {},
   "outputs": [],
   "source": [
    "from transformers import T5Tokenizer, T5ForConditionalGeneration\n",
    "from pdfminer.high_level import extract_text\n",
    "import torch, os\n",
    "import torch.nn.functional as F\n",
    "\n",
    "# Resolve any conflicting libraries\n",
    "os.environ['KMP_DUPLICATE_LIB_OK']='True'"
   ]
  },
  {
   "cell_type": "code",
   "execution_count": 2,
   "metadata": {},
   "outputs": [],
   "source": [
    "filename = '3M DEMO_GRIDIRONBIONUTRIENTS,INC_02_05_2020-EX-10.3-SUPPLY AGREEMENT.PDF'\n",
    "doc = extract_text(filename)\n",
    "book = doc.replace(\"\\n\" , \"\")\n",
    "book = book.replace(\"\\x0c\", \"\")\n",
    "book = book.replace(\"  \", \" \")"
   ]
  },
  {
   "cell_type": "code",
   "execution_count": 3,
   "metadata": {},
   "outputs": [
    {
     "name": "stdout",
     "output_type": "stream",
     "text": [
      "EXHIBIT 10.3SUPPLY AGREEMENTThis Agreement (“the Agreement”), is made by and between EWSD 1, LLC, d/b/a/ SHI FARMS (“Shi Farms”), a Delaware limitedliability company and Gridiron BioNutrients, Inc, a Nevada Corporation (“Gridiron”) , each individually “a Party,” and collectively,“the Parties.”WHEREAS Shi Farms grows industrial hemp and wishes to sell hemp biomass (“Product”); andGridiron wishes to purchase Product from Shi Farms; andBoth Parties acknowledge that Shi Farms is the owner of the Product as defined below; and Shi Farms is willing to sell Product toGridiron and Gridiron desires to acquire in accordance with the terms and conditions set forth below.NOW, THEREFORE for good and valuable consideration, the receipt and sufficiency of which are hereby acknowledged, theParties agree as follows:1.Products and PaymentsA.Product. Shi Farms agrees to sell Product and Gridiron agrees to purchase 30,000 lbs. of hemp biomass (“Biomass”)from Shi Farms. Biomass must contain a minimum of six\n"
     ]
    }
   ],
   "source": [
    "print(doc[:1000])"
   ]
  },
  {
   "cell_type": "code",
   "execution_count": 4,
   "metadata": {},
   "outputs": [],
   "source": [
    "tokenizer = T5Tokenizer.from_pretrained('t5-large')\n",
    "model = T5ForConditionalGeneration.from_pretrained('t5-large', return_dict=True, )"
   ]
  },
  {
   "cell_type": "code",
   "execution_count": 5,
   "metadata": {},
   "outputs": [],
   "source": [
    "def qa(question):\n",
    "    another = \"question: \" + question + \" context: \" + doc\n",
    "    input_ids = tokenizer.encode(another, max_length=3000, truncation=True, return_tensors='pt')\n",
    "    outputs = model.generate(input_ids = input_ids)\n",
    "    output_str = tokenizer.decode(outputs.reshape(-1), skip_special_tokens=True)\n",
    "    return output_str"
   ]
  },
  {
   "cell_type": "code",
   "execution_count": 6,
   "metadata": {},
   "outputs": [],
   "source": [
    "def summarise(doc_summ):\n",
    "    input_ids = tokenizer.encode(\"summarize: \" + doc_summ, max_length=3000, truncation=True, return_tensors=\"pt\")\n",
    "    outputs = model.generate(input_ids)\n",
    "    outputs_str = tokenizer.decode(outputs.reshape(-1), skip_special_tokens=True)\n",
    "    return outputs_str"
   ]
  },
  {
   "cell_type": "code",
   "execution_count": 7,
   "metadata": {},
   "outputs": [
    {
     "data": {
      "text/plain": [
       "'Shi Farms is the owner of the hemp biomass that Gridiron is purchasing. the parties'"
      ]
     },
     "execution_count": 7,
     "metadata": {},
     "output_type": "execute_result"
    }
   ],
   "source": [
    "summarise(doc)"
   ]
  },
  {
   "cell_type": "code",
   "execution_count": null,
   "metadata": {},
   "outputs": [],
   "source": [
    "qa(\"When is the contract dated?\")"
   ]
  },
  {
   "cell_type": "code",
   "execution_count": 8,
   "metadata": {},
   "outputs": [
    {
     "data": {
      "text/plain": [
       "'Shi Farms and Gridiron BioNutrients, Inc'"
      ]
     },
     "execution_count": 8,
     "metadata": {},
     "output_type": "execute_result"
    }
   ],
   "source": [
    "qa(\"Which two parties is the agreement between?\")"
   ]
  },
  {
   "cell_type": "code",
   "execution_count": null,
   "metadata": {},
   "outputs": [],
   "source": [
    "qa(\"What is the pricing of the product?\")"
   ]
  },
  {
   "cell_type": "code",
   "execution_count": null,
   "metadata": {},
   "outputs": [],
   "source": [
    "qa(\"How does the buyer pay for the service?\")"
   ]
  },
  {
   "cell_type": "code",
   "execution_count": null,
   "metadata": {},
   "outputs": [],
   "source": [
    "qa(\"What is the point of delivery for the product?\")"
   ]
  },
  {
   "cell_type": "code",
   "execution_count": null,
   "metadata": {},
   "outputs": [],
   "source": [
    "qa(\"Who can terminate the agreement?\")"
   ]
  },
  {
   "cell_type": "code",
   "execution_count": 9,
   "metadata": {},
   "outputs": [
    {
     "data": {
      "text/plain": [
       "'State of Colorado'"
      ]
     },
     "execution_count": 9,
     "metadata": {},
     "output_type": "execute_result"
    }
   ],
   "source": [
    "qa(\"Where is the governing law?\")"
   ]
  },
  {
   "cell_type": "code",
   "execution_count": null,
   "metadata": {},
   "outputs": [],
   "source": [
    "qa(\"Which parties witnessed the signing of the contract?\")"
   ]
  },
  {
   "cell_type": "code",
   "execution_count": null,
   "metadata": {},
   "outputs": [],
   "source": [
    "qa(\"What is the Confidential Information clause?\")"
   ]
  },
  {
   "cell_type": "code",
   "execution_count": null,
   "metadata": {},
   "outputs": [],
   "source": [
    "qa(\"When can either party terminate?\")"
   ]
  },
  {
   "cell_type": "code",
   "execution_count": null,
   "metadata": {},
   "outputs": [],
   "source": []
  }
 ],
 "metadata": {
  "kernelspec": {
   "display_name": "Python 3",
   "language": "python",
   "name": "python3"
  },
  "language_info": {
   "codemirror_mode": {
    "name": "ipython",
    "version": 3
   },
   "file_extension": ".py",
   "mimetype": "text/x-python",
   "name": "python",
   "nbconvert_exporter": "python",
   "pygments_lexer": "ipython3",
   "version": "3.8.8"
  }
 },
 "nbformat": 4,
 "nbformat_minor": 4
}
