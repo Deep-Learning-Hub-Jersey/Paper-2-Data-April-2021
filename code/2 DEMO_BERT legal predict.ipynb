{
 "cells": [
  {
   "cell_type": "code",
   "execution_count": 1,
   "metadata": {},
   "outputs": [],
   "source": [
    "from transformers import AutoTokenizer, AutoModelForQuestionAnswering\n",
    "import torch, os\n",
    "from tqdm import tqdm\n",
    "import nltk\n",
    "from pdfminer.high_level import extract_text\n",
    "\n",
    "# Resolve any conflicting libraries\n",
    "os.environ['KMP_DUPLICATE_LIB_OK']='True'"
   ]
  },
  {
   "cell_type": "code",
   "execution_count": 2,
   "metadata": {},
   "outputs": [],
   "source": [
    "model_name = 'DEMO_bert-large-uncased-whole-word-masking-legal_finetuned-squad/'\n",
    "\n",
    "tokenizer = AutoTokenizer.from_pretrained(model_name)\n",
    "model = AutoModelForQuestionAnswering.from_pretrained(model_name)"
   ]
  },
  {
   "cell_type": "code",
   "execution_count": 3,
   "metadata": {},
   "outputs": [],
   "source": [
    "filename = '2M DEMO_2020-12-15 H665 OOFFS_657.pdf'\n",
    "doc = extract_text(filename)"
   ]
  },
  {
   "cell_type": "code",
   "execution_count": 4,
   "metadata": {},
   "outputs": [],
   "source": [
    "book = doc.replace(\"\\n\" , \"\")\n",
    "book = book.replace(\"\\x0c\", \"\")\n",
    "book = book.replace(\"  \", \" \")"
   ]
  },
  {
   "cell_type": "code",
   "execution_count": 5,
   "metadata": {},
   "outputs": [],
   "source": [
    "sent_corpus = nltk.sent_tokenize(book)"
   ]
  },
  {
   "cell_type": "code",
   "execution_count": 6,
   "metadata": {
    "jupyter": {
     "outputs_hidden": true
    }
   },
   "outputs": [],
   "source": [
    "#device = torch.device(\"cuda\")\n",
    "#model.to(device)"
   ]
  },
  {
   "cell_type": "code",
   "execution_count": 7,
   "metadata": {},
   "outputs": [],
   "source": [
    "def question_answer(question, sent_corpus):\n",
    "    max_prob = -10.0\n",
    "    # loop through sentences\n",
    "    for sent in sent_corpus:\n",
    "        \n",
    "        text = str(sent)\n",
    "        \n",
    "        inputs = tokenizer(question, text, add_special_tokens=True, return_tensors=\"pt\")#.to(device)\n",
    "        input_ids = inputs[\"input_ids\"].tolist()[0]\n",
    "        text_tokens = tokenizer.convert_ids_to_tokens(input_ids)\n",
    "        outputs = model(**inputs)\n",
    "\n",
    "        answer_start_scores = outputs.start_logits\n",
    "        answer_end_scores = outputs.end_logits\n",
    "\n",
    "        answer_start = torch.argmax(answer_start_scores)\n",
    "        answer_end = torch.argmax(answer_end_scores) + 1 \n",
    "        \n",
    "        max_prob_start = torch.max(answer_start_scores)\n",
    "        max_prob_end = torch.max(answer_end_scores)\n",
    "        max_prob_startend = max_prob_start + max_prob_end\n",
    "        \n",
    "        if max_prob_startend > max_prob:\n",
    "            max_prob = max_prob_startend\n",
    "            answer = tokenizer.convert_tokens_to_string(tokenizer.convert_ids_to_tokens(input_ids[answer_start:answer_end]))\n",
    "            text_answer = text\n",
    "    print('BERT Answer:\\n------------\\n', answer, '\\n\\nSentence:\\n---------\\n', text_answer)"
   ]
  },
  {
   "cell_type": "code",
   "execution_count": 8,
   "metadata": {},
   "outputs": [
    {
     "name": "stdout",
     "output_type": "stream",
     "text": [
      "BERT Answer:\n",
      "------------\n",
      " 4 december 2020 \n",
      "\n",
      "Sentence:\n",
      "---------\n",
      " DATED 4 DECEMBER 2020 INVESTOR LIMITED and INVESTMENT LIMITED OPTION AGREEMENT FOR FUTURE SHARES       THIS AGREEMENT is made and entered into on 4 December 2020 (1) INVESTOR LIMITED a company incorporated in Jersey with registration number 123456 and whose registered office is at King Street, Jersey, Channel Islands, JE2 2EJ (the “Investor”); (2) INVESTMENT LIMITED a company incorporated in Jersey with registration number 654321 and whose registered office is at Queen Street, Jersey, JE2 2EJ, Channel Islands, Great Britain with an email address of investment@greatinvestments.com (the “Company”).\n"
     ]
    }
   ],
   "source": [
    "question_answer('When is the agreement made?', sent_corpus)"
   ]
  },
  {
   "cell_type": "code",
   "execution_count": 9,
   "metadata": {},
   "outputs": [
    {
     "name": "stdout",
     "output_type": "stream",
     "text": [
      "BERT Answer:\n",
      "------------\n",
      " the company and the investor \n",
      "\n",
      "Sentence:\n",
      "---------\n",
      " 9 Representations and Warranties 9.1 Both the Company and the Investor have the right, power and authority and have taken all actions necessary to execute and to exercise their rights and perform their obligations under this Agreement.\n"
     ]
    }
   ],
   "source": [
    "question_answer('Which two parties is the agreement between?', sent_corpus)"
   ]
  },
  {
   "cell_type": "code",
   "execution_count": null,
   "metadata": {},
   "outputs": [],
   "source": [
    "question_answer('Where is the registered office of investor limited?', sent_corpus)"
   ]
  },
  {
   "cell_type": "code",
   "execution_count": null,
   "metadata": {},
   "outputs": [],
   "source": [
    "question_answer('Where is the registered office of investment limited?', sent_corpus)"
   ]
  },
  {
   "cell_type": "code",
   "execution_count": 10,
   "metadata": {},
   "outputs": [
    {
     "name": "stdout",
     "output_type": "stream",
     "text": [
      "BERT Answer:\n",
      "------------\n",
      " 85 % \n",
      "\n",
      "Sentence:\n",
      "---------\n",
      " 1.1.9 Discount Price: the price per share of the Shares sold in the Fund Raising multiplied by the Discount Rate; 1.1.10 Discount Rate: 85%; 1.1.11 Fund Raising: the Company raising a total of £200,000,000 or more prior to the second anniversary of this Agreement from an issue of Shares to any person(s) (and excluding, for the avoidance of doubt, the Investment to be converted into Shares); 1.1.12 Investment: the sum of £500,000 to be invested into the Company as a convertible debt; and 1.1.13 Shares: the ordinary shares of £1.00 par value in the capital of the Company.\n"
     ]
    }
   ],
   "source": [
    "question_answer(\"What is the Discount Rate:?\", sent_corpus)"
   ]
  },
  {
   "cell_type": "code",
   "execution_count": null,
   "metadata": {},
   "outputs": [],
   "source": [
    "question_answer(\"How much has the Investor invested?\", sent_corpus)"
   ]
  },
  {
   "cell_type": "code",
   "execution_count": null,
   "metadata": {},
   "outputs": [],
   "source": [
    "question_answer(\"Who pays the costs?\", sent_corpus)"
   ]
  },
  {
   "cell_type": "code",
   "execution_count": null,
   "metadata": {},
   "outputs": [],
   "source": [
    "question_answer(\"Where are the registered offices of the contracting parties?\", sent_corpus)"
   ]
  },
  {
   "cell_type": "code",
   "execution_count": null,
   "metadata": {},
   "outputs": [],
   "source": [
    "question_answer(\"How much notice does the investor have to give?\", sent_corpus)"
   ]
  },
  {
   "cell_type": "code",
   "execution_count": null,
   "metadata": {},
   "outputs": [],
   "source": [
    "question_answer(\"Can parties transfer rights?\", sent_corpus)"
   ]
  },
  {
   "cell_type": "code",
   "execution_count": null,
   "metadata": {},
   "outputs": [],
   "source": [
    "question_answer(\"How long does the agreement continue?\", sent_corpus)"
   ]
  },
  {
   "cell_type": "code",
   "execution_count": null,
   "metadata": {},
   "outputs": [],
   "source": []
  }
 ],
 "metadata": {
  "kernelspec": {
   "display_name": "Python 3",
   "language": "python",
   "name": "python3"
  },
  "language_info": {
   "codemirror_mode": {
    "name": "ipython",
    "version": 3
   },
   "file_extension": ".py",
   "mimetype": "text/x-python",
   "name": "python",
   "nbconvert_exporter": "python",
   "pygments_lexer": "ipython3",
   "version": "3.8.8"
  }
 },
 "nbformat": 4,
 "nbformat_minor": 4
}
