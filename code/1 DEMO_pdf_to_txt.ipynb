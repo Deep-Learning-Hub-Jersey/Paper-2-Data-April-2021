{
 "cells": [
  {
   "cell_type": "code",
   "execution_count": 1,
   "metadata": {},
   "outputs": [],
   "source": [
    "import os"
   ]
  },
  {
   "cell_type": "code",
   "execution_count": 2,
   "metadata": {},
   "outputs": [],
   "source": [
    "from PIL import Image"
   ]
  },
  {
   "cell_type": "code",
   "execution_count": 3,
   "metadata": {},
   "outputs": [],
   "source": [
    "import pdf2image"
   ]
  },
  {
   "cell_type": "code",
   "execution_count": 4,
   "metadata": {},
   "outputs": [],
   "source": [
    "import pytesseract"
   ]
  },
  {
   "cell_type": "code",
   "execution_count": 5,
   "metadata": {},
   "outputs": [],
   "source": [
    "import matplotlib.pyplot as plt"
   ]
  },
  {
   "cell_type": "code",
   "execution_count": 6,
   "metadata": {},
   "outputs": [],
   "source": [
    "path = '1M DEMO_CreditcardscomInc_20070810_S-1_EX-10.33_362297_EX-10.33_Affiliate Agreement.pdf'"
   ]
  },
  {
   "cell_type": "code",
   "execution_count": 7,
   "metadata": {},
   "outputs": [],
   "source": [
    "doc = pdf2image.convert_from_path(path)"
   ]
  },
  {
   "cell_type": "code",
   "execution_count": 8,
   "metadata": {},
   "outputs": [
    {
     "data": {
      "text/plain": [
       "12"
      ]
     },
     "execution_count": 8,
     "metadata": {},
     "output_type": "execute_result"
    }
   ],
   "source": [
    "len(doc)"
   ]
  },
  {
   "cell_type": "code",
   "execution_count": 9,
   "metadata": {},
   "outputs": [],
   "source": [
    "path, fileName = os.path.split(path)"
   ]
  },
  {
   "cell_type": "code",
   "execution_count": 10,
   "metadata": {},
   "outputs": [
    {
     "data": {
      "text/plain": [
       "<matplotlib.image.AxesImage at 0x7fa07038c640>"
      ]
     },
     "execution_count": 10,
     "metadata": {},
     "output_type": "execute_result"
    },
    {
     "data": {
      "image/png": "[encoded data removed]",
      "text/plain": [
       "<Figure size 432x288 with 1 Axes>"
      ]
     },
     "metadata": {
      "needs_background": "light"
     },
     "output_type": "display_data"
    }
   ],
   "source": [
    "plt.imshow(doc[0])"
   ]
  },
  {
   "cell_type": "code",
   "execution_count": 11,
   "metadata": {},
   "outputs": [],
   "source": [
    "doc_out = []\n",
    "for page_no in range(5):\n",
    "    page = doc[page_no]\n",
    "    txt = pytesseract.image_to_string(page)\n",
    "    doc_out.append(txt)"
   ]
  },
  {
   "cell_type": "code",
   "execution_count": 12,
   "metadata": {},
   "outputs": [
    {
     "name": "stdout",
     "output_type": "stream",
     "text": [
      "['Exhibit 10.33\\n\\nLast Updated: April 6, 2007\\n\\nCHASE AFFILIATE AGREEMENT\\n\\nTHIS AGREEMENT sets forth the terms and conditions agreed to between Chase Bank USA, N.A. (?Chase?) and you as an “Affiliate” in the Chase\\nAffiliate Program (the “Affiliate Program”). Once accepted into the Affiliate Program, an Affiliate can establish links from the Affiliate’s Website to\\n[Chase.com]. Chase will pay Affiliate a fee for each approved credit card account that originates from a link in Affiliate’s Website.\\n\\nTHIS IS A LEGAL AND CONTRACTUALLY BINDING AGREEMENT BETWEEN AFFILIATE AND CHASE. TO APPLY TO THE AFFILIATE\\nPROGRAM, YOU MUST COMPLETE AND SUBMIT THE AFFILIATE REGISTRATION FORM AND CLICK ON THE “AGREE” BUTTON BELOW\\nTO INDICATE YOUR WILLINGNESS TO BE BOUND TO CHASE BY THIS AGREEMENT. THIS AGREEMENT WILL TAKE EFFECT IF AND\\nWHEN CHASE REVIEWS AND ACCEPTS YOUR REGISTRATION FORM AND PROVIDES YOU NOTICE OF ACCEPTANCE. BY SUBMITTING\\nYOUR REGISTRATION FORM, AFFILIATE CERTIFIES THAT YOU HAVE READ AND UNDERSTAND THE TERMS SET FORTH BELOW, AND\\nTHAT YOU ARE AUTHORIZED TO SUBMIT THIS REGISTRATION FORM BY THE NAMED AFFILIATE.\\n\\nIn connection with your participation in the Affiliate Program, Affiliate and Chase agree as follows:\\n\\n1. Enrollment in the Affiliate Program; Restricted Content\\n\\nTo enroll in the Affiliate Program, you must submit a complete “Affiliate Registration Form” via the Chase Affiliate Website:\\n\\nFor new affiliates: https://ssl.linksynergy.com/php-bin/reg/sregister.shtml?mid=229 1\\n\\nFor existing affiliates: http://www.linkshare.com/joinprograms?0id=87909\\n\\nChase will evaluate your registration form and will notify you via e-mail of the acceptance or rejection of your registration form. Chase reserves, in\\nits sole discretion, with or without reason, the right to accept or reject your registration into the Chase Affiliate Program, including but not limited to\\n\\na determination that your site is unsuitable for or incompatible with the Affiliate Program based on the following criteria (collectively “Restricted\\nContent”):\\n\\n* Incorporates images or content that is any way unlawful, offensive, profane, harmful, threatening, defamatory, obscene, harassing or racially,\\nethically or otherwise objectionable\\n\\n* Promote illegal activities, including gambling\\n* Promotes or depicts sexually explicit, obscene or pornographic images\\n* Promotes or depicts violence or hate speech\\n\\n* Promotes discrimination based on race, sex, religion, nationality, disability, sexual orientation or age\\n\\n \\n\\n \\n\\nSource: CREDITCARDS.COM, INC., S-1, 8/10/2007', '* Incorporates any materials which infringe or assist others to infringe on any copyright, trademark or other intellectual property rights\\n\\n* Contains or promotes politically sensitive or controversial issues\\n\\nChase also reserves the right to terminate this Agreement in the event that any Restricted Content is incorporated on Affiliate’s site after\\nacceptance of your registration form and the commencement of the term of this Agreement. Chase may also terminate this Agreement if your site is\\ndeemed unsuitable based on the criteria below:\\n\\n* Manipulates key word searches on portals\\n\\n* Misrepresents itself as a Chase Website by altering the visual “look and feel” of or text from Chase’s site, and/or engage in “framing” the Chase\\nWebsite\\n\\n* Engages in domain squatting\\n\\n* Engages in spamming or unsolicited commercial e-mail\\n\\n* Engages in unauthorized telemarketing or remarketing of Chase Credit Card offers via telephone\\n\\n* Uses Chase products and services in the domain name, URL or URI, including, but not limited to, any combination of the following words:\\n\\n°JP\\n\\n* MORGAN\\n\\n* CHASE\\n\\n* MANHATTAN\\n\\n* AARP\\n\\n* AMAZON.COM\\n\\n* BALL STATE UNIVERSITY\\n\\n* BORDERS\\n\\n* BRITISH AIRWAYS\\n\\n* CASH PLUS\\n\\n* CHASE FREEDOM\\n\\n* CENTRAL MICHIGAN UNIVERSITY\\n* CONTINENTAL\\n\\n* CORNELL UNIVERSITY\\n\\n* DISNEY\\n\\n* DUKE UNIVERSITY\\n\\n* FLEXIBLE REWARDS\\n\\n* FREE CASH\\n\\n* HARVARD COOP\\n\\n* HESS\\n\\n* HOME IMPROVEMENT\\n\\n* LEHIGH UNIVERSITY\\n\\n* LOUISIANA STATE UNIVERSITY\\n* MARATHON\\n\\n* MARRIOTT\\n\\n* MIAMI UNIVERSITY\\n\\n* OHIO UNIVERSITY\\n\\n* OVERSTOCK\\n\\n* PERFECT CARD\\n\\n* PRIORITY CLUB / HOLIDAY INN\\n* SONY\\n\\n* SOUTHERN ILLINOIS UNIVERSITY\\n* SPEEDWAY SUPER AMERICA,\\n\\n \\n\\n \\n\\nSource: CREDITCARDS.COM, INC., S-1, 8/10/2007', '* STARBUCKS\\n\\n* SUBARU\\n\\n* TEMPLE UNIVERSITY\\n\\n* TOYS \"R\" US\\n\\n* TRAVEL PLUS\\n\\n* TRUMP.\\n\\n* ULTIMATE REWARDS\\n\\n* UNITED\\n\\n* UNIVERSAL\\n\\n* UNIVERSITY OF ARIZONA ATHLETICS\\n* UNIVERSITY OF CHICAGO\\n\\n* UNIVERSITY OF FLORIDA.\\n\\n* UNIVERSITY OF HOUSTON\\n\\n* UNIVERSITY OF IDAHO\\n\\n* UNIVERSITY OF KENTUCKY\\n\\n* UNIVERSITY OF MARYLAND\\n\\n* UNIVERSITY OF MEMPHIS\\n\\n* UNIVERSITY OF MINNESOTA ATHLETICS\\n* UNIVERSITY OF NOTRE DAME\\n\\n* UNIVERSITY OF OKLAHOMA\\n\\n* UNIVERSITY OF OREGON\\n\\n* UNIVERSITY OF SOUTH CAROLINA\\n\\n* UNIVERSITY OF TENNESSEE\\n\\n* UNIVERSITY OF VIRGINIA\\n\\n* UTAH STATE UNIVERSITY\\n\\n* VALUE MILES\\n\\n* VIRGINIA TECH APPROVED ACCOUNT\\n* VOLKSWAGEN\\n\\n* WESTERN ILLINOIS UNIVERSITY\\n\\n* YALE UNIVERSTIY\\n\\n* Uses a proxy server or redirector server to proxy Chase web pages or web sites through your website, URL or URI\\n\\n* Otherwise violates intellectual property rights, including, without limitation, “scraping” text or images from Chase’s Website\\n* Does not clearly state an online privacy policy to its visitors\\n\\n* Is based outside of the United States\\n\\n* Is otherwise considered offensive or inappropriate, at Chase’s discretion\\n2. Affiliate Responsibilities:\\n\\n* Affiliate cannot use or implement creative that is not available through the LinkShare affiliate interface.\\n\\n* Affiliates may not harvest or collect personal information, or email addresses using the Chase brand without the written consent of Chase\\n\\n* If Affiliate manages a sub-affiliate network, upon Chase’s request, Affiliate shall promptly provide Chase with a current, written list identifying the\\nsub-affiliates or other third parties associated.\\n\\n* Chase reserves the right to review and approve all sub-affiliate partners.\\n\\n* Chase shall only use the list for the sole purpose of administering the program and monitoring proper usage, and will not poach or contact\\nsubaffiliates directly.\\n\\n* Affiliates will not use the following product keyword search terms. (See Appendix)\\n\\n \\n\\n \\n\\nSource: CREDITCARDS.COM, INC., S-1, 8/10/2007', '* If Affiliate manages a sub-affiliate network, the Affiliate may not pay sub-affiliates or other partners higher referral fees than the lowest tier of the\\npublic offer ($55.00).\\n\\n* Affiliate is prohibited from (a) installing spyware on another person’s computer, (b) causing spyware to be installed on another person’s\\ncomputer, or (c) using a context based triggering mechanism to display an advertisement that partially or wholly covers or obscures paid\\nadvertising or other content on an Internet website in a way that interferes with a user’s ability to view the Internet website.\\n\\n3. Referral Fee\\n\\nFor each Approved Account (as defined in section 4 below) received through Affiliate’s site, Affiliate will earn a referral fee calculated in\\naccordance with the schedule set forth below (“Commission”) paid monthly.\\n\\n* Tiered or flat commission based on private offer terms in the network.\\n\\nChase reserves the right to alter above referral fees from time to time upon written notice to Affiliate of such change.\\n\\n4. Approved Account\\n\\nFor purposes of determining Affiliate’s Commission, an “Approved Account” means any Chase credit card application that is: (i) submitted by any\\nuser who clicks on an e-mail, banner or any other advertising material from A ffiliate’s Website; (ii) is approved by Chase; and (iii) is reported as\\napproved by Chase to Affiliate.\\n\\n5.Term of this Agreement\\n\\nThe term of this Agreement will commence on the date that the Affiliate Registration Form is approved by Chase and will end when terminated by\\neither party. Either Affiliate or Chase may terminate this Agreement at any time, with or without cause, by giving the other party written or e-mail\\nnotice of termination. At the time of termination, any links to Chase’s Website must be removed immediately. Affiliate will continue to receive\\nCommission payments for all Approved Accounts placed during the term of this Agreement. Notwithstanding the foregoing, Chase may\\n\\nterminate this Agreement if Affiliate does not comply with the terms and conditions herein.\\n\\n6. Links\\n\\nAffiliate agrees to place Chase’s links provided by Linkshare NetworkTM which manages the Affiliate Program (“Links”) on its Affiliate’s website.\\nAffiliate is responsible for obtaining prior written approval from the Chase Affiliate manager or Linkshare Network to link any or all other sites\\nowned or managed by the Affiliate, other than the site that was approved at the time of original registration. Affiliate may select or remove Links, at\\n\\nany time without prior approval from Chase. Affiliate is also responsible for removing and/or informing Chase of potential inactive or misdirected\\nLinks. Affiliate agrees to cooperate with Chase in establishing and maintaining Links.\\n\\n \\n\\n \\n\\nSource: CREDITCARDS.COM, INC., S-1, 8/10/2007', '7. Order Processing\\n\\nChase will be solely responsible for processing each order placed by a customer from Affiliate’s Links. Customers may only use the Chase on-line\\napplication process to apply for a Chase credit card. “Customers” are defined herein as individuals who apply for Chase credit cards through a link\\nin Affiliate’s Web site. Chase shall be responsible for administering application forms and related customer service. All of the rules, operating\\nprocedures and policies of Chase regarding customer orders and accounts will apply to orders received through the Links. Chase reserves the right\\nto reject any credit card application in its sole discretion.\\n\\n8. Tracking of Sales\\n\\nChase will be solely responsible for tracking Approved Accounts made to customers who follow Affiliate’s Links. Affiliate will be solely\\nresponsible for ensuring that the Links are formatted properly and maintained in a manner, which allows Chase to track such Approved Accounts.\\nNo Commission shall be paid if the Approved Account cannot be tracked by Chase’s system or if the customer accesses the Chase site through\\nmeans other than the Links. Chase will provide Affiliate with statements of Approved Account activity at the time Commissions are paid.\\n\\n9. Terms and Conditions of Credit Cards\\n\\nChase is solely responsible for determining the terms and conditions of the credit cards. The credit card offers may vary from time to time and are\\nsubject to change. Affiliate may not specify details regarding the Chase credit card on their Websites without the prior approval of Chase.\\n\\n10. Chase Customers\\n\\nCustomers who apply for Chase credit cards through the Chase Affiliate Program are customers of Chase. Affiliate has no authority to make or\\naccept any offer on behalf of Chase. All Chase policies regarding customer orders, including availability, pricing and problem resolution, will apply\\nto these customers. Affiliate has no authority to make, and Chase is not responsible for, any representations made by Affiliate that contradict these\\npolicies.\\n\\n11. Product Descriptions\\n\\nAffiliate will only use credit card descriptions provided or approved in writing by Chase.\\n\\n12. Copyrighted Material\\n\\nAffiliate is solely responsible for ensuring that its reviews and articles obey all applicable copyright and other laws. Generally, Affiliate must have\\n\\nexpress permission to use another party’s copyrighted or other proprietary material. Chase is not responsible for Affiliate’s improper use of another\\nparty’s copyrighted or proprietary material.\\n\\n \\n\\n \\n\\nSource: CREDITCARDS.COM, INC., S-1, 8/10/2007']\n"
     ]
    }
   ],
   "source": [
    "print(doc_out)"
   ]
  },
  {
   "cell_type": "code",
   "execution_count": 13,
   "metadata": {},
   "outputs": [],
   "source": [
    "out = open('dl_doc.txt', \"w\")\n",
    "out.writelines(doc_out)\n",
    "out.close()"
   ]
  },
  {
   "cell_type": "code",
   "execution_count": null,
   "metadata": {},
   "outputs": [],
   "source": []
  }
 ],
 "metadata": {
  "kernelspec": {
   "display_name": "Python 3",
   "language": "python",
   "name": "python3"
  },
  "language_info": {
   "codemirror_mode": {
    "name": "ipython",
    "version": 3
   },
   "file_extension": ".py",
   "mimetype": "text/x-python",
   "name": "python",
   "nbconvert_exporter": "python",
   "pygments_lexer": "ipython3",
   "version": "3.8.8"
  }
 },
 "nbformat": 4,
 "nbformat_minor": 4
}
